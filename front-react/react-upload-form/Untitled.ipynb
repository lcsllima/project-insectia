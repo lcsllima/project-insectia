{
 "cells": [
  {
   "cell_type": "code",
   "execution_count": 8,
   "id": "1008192f-00be-4d0c-9d69-6f967dbe9751",
   "metadata": {},
   "outputs": [
    {
     "name": "stdout",
     "output_type": "stream",
     "text": [
      "Defaulting to user installation because normal site-packages is not writeable\n",
      "Collecting torchvision\n",
      "  Using cached torchvision-0.15.2-cp310-cp310-manylinux1_x86_64.whl (6.0 MB)\n",
      "Requirement already satisfied: numpy in /home/lucasleite/.local/lib/python3.10/site-packages (from torchvision) (1.24.3)\n",
      "Requirement already satisfied: requests in /home/lucasleite/.local/lib/python3.10/site-packages (from torchvision) (2.31.0)\n",
      "Requirement already satisfied: torch==2.0.1 in /home/lucasleite/.local/lib/python3.10/site-packages (from torchvision) (2.0.1)\n",
      "Requirement already satisfied: pillow!=8.3.*,>=5.3.0 in /home/lucasleite/.local/lib/python3.10/site-packages (from torchvision) (9.5.0)\n",
      "Requirement already satisfied: filelock in /usr/lib/python3/dist-packages (from torch==2.0.1->torchvision) (3.6.0)\n",
      "Requirement already satisfied: typing-extensions in /home/lucasleite/.local/lib/python3.10/site-packages (from torch==2.0.1->torchvision) (4.5.0)\n",
      "Requirement already satisfied: sympy in /home/lucasleite/.local/lib/python3.10/site-packages (from torch==2.0.1->torchvision) (1.12)\n",
      "Requirement already satisfied: networkx in /home/lucasleite/.local/lib/python3.10/site-packages (from torch==2.0.1->torchvision) (3.1)\n",
      "Requirement already satisfied: jinja2 in /home/lucasleite/.local/lib/python3.10/site-packages (from torch==2.0.1->torchvision) (3.1.2)\n",
      "Requirement already satisfied: nvidia-cuda-nvrtc-cu11==11.7.99 in /home/lucasleite/.local/lib/python3.10/site-packages (from torch==2.0.1->torchvision) (11.7.99)\n",
      "Requirement already satisfied: nvidia-cuda-runtime-cu11==11.7.99 in /home/lucasleite/.local/lib/python3.10/site-packages (from torch==2.0.1->torchvision) (11.7.99)\n",
      "Requirement already satisfied: nvidia-cuda-cupti-cu11==11.7.101 in /home/lucasleite/.local/lib/python3.10/site-packages (from torch==2.0.1->torchvision) (11.7.101)\n",
      "Requirement already satisfied: nvidia-cudnn-cu11==8.5.0.96 in /home/lucasleite/.local/lib/python3.10/site-packages (from torch==2.0.1->torchvision) (8.5.0.96)\n",
      "Requirement already satisfied: nvidia-cublas-cu11==11.10.3.66 in /home/lucasleite/.local/lib/python3.10/site-packages (from torch==2.0.1->torchvision) (11.10.3.66)\n",
      "Requirement already satisfied: nvidia-cufft-cu11==10.9.0.58 in /home/lucasleite/.local/lib/python3.10/site-packages (from torch==2.0.1->torchvision) (10.9.0.58)\n",
      "Requirement already satisfied: nvidia-curand-cu11==10.2.10.91 in /home/lucasleite/.local/lib/python3.10/site-packages (from torch==2.0.1->torchvision) (10.2.10.91)\n",
      "Requirement already satisfied: nvidia-cusolver-cu11==11.4.0.1 in /home/lucasleite/.local/lib/python3.10/site-packages (from torch==2.0.1->torchvision) (11.4.0.1)\n",
      "Requirement already satisfied: nvidia-cusparse-cu11==11.7.4.91 in /home/lucasleite/.local/lib/python3.10/site-packages (from torch==2.0.1->torchvision) (11.7.4.91)\n",
      "Requirement already satisfied: nvidia-nccl-cu11==2.14.3 in /home/lucasleite/.local/lib/python3.10/site-packages (from torch==2.0.1->torchvision) (2.14.3)\n",
      "Requirement already satisfied: nvidia-nvtx-cu11==11.7.91 in /home/lucasleite/.local/lib/python3.10/site-packages (from torch==2.0.1->torchvision) (11.7.91)\n",
      "Requirement already satisfied: triton==2.0.0 in /home/lucasleite/.local/lib/python3.10/site-packages (from torch==2.0.1->torchvision) (2.0.0)\n",
      "Requirement already satisfied: setuptools in /usr/lib/python3/dist-packages (from nvidia-cublas-cu11==11.10.3.66->torch==2.0.1->torchvision) (59.6.0)\n",
      "Requirement already satisfied: wheel in /usr/lib/python3/dist-packages (from nvidia-cublas-cu11==11.10.3.66->torch==2.0.1->torchvision) (0.37.1)\n",
      "Requirement already satisfied: cmake in /home/lucasleite/.local/lib/python3.10/site-packages (from triton==2.0.0->torch==2.0.1->torchvision) (3.27.2)\n",
      "Requirement already satisfied: lit in /home/lucasleite/.local/lib/python3.10/site-packages (from triton==2.0.0->torch==2.0.1->torchvision) (16.0.6)\n",
      "Requirement already satisfied: charset-normalizer<4,>=2 in /home/lucasleite/.local/lib/python3.10/site-packages (from requests->torchvision) (3.1.0)\n",
      "Requirement already satisfied: idna<4,>=2.5 in /usr/lib/python3/dist-packages (from requests->torchvision) (3.3)\n",
      "Requirement already satisfied: urllib3<3,>=1.21.1 in /home/lucasleite/.local/lib/python3.10/site-packages (from requests->torchvision) (1.26.13)\n",
      "Requirement already satisfied: certifi>=2017.4.17 in /usr/lib/python3/dist-packages (from requests->torchvision) (2020.6.20)\n",
      "Requirement already satisfied: MarkupSafe>=2.0 in /home/lucasleite/.local/lib/python3.10/site-packages (from jinja2->torch==2.0.1->torchvision) (2.1.3)\n",
      "Requirement already satisfied: mpmath>=0.19 in /home/lucasleite/.local/lib/python3.10/site-packages (from sympy->torch==2.0.1->torchvision) (1.3.0)\n",
      "Installing collected packages: torchvision\n",
      "Successfully installed torchvision-0.15.2\n"
     ]
    }
   ],
   "source": [
    "# !pip install torch\n",
    "!pip install torchvision"
   ]
  },
  {
   "cell_type": "code",
   "execution_count": 27,
   "id": "b7680901-69dc-4464-8ff3-73ddc5c2b28c",
   "metadata": {},
   "outputs": [
    {
     "name": "stdout",
     "output_type": "stream",
     "text": [
      "['Butterfly', 'Dragonfly', '.ipynb_checkpoints']\n",
      "Número de classes: 3\n"
     ]
    }
   ],
   "source": [
    "import os\n",
    "\n",
    "data_dir = \"imagens\"\n",
    "print(os.listdir(data_dir))\n",
    "num_classes = len(os.listdir(data_dir))\n",
    "print(\"Número de classes:\", num_classes)"
   ]
  },
  {
   "cell_type": "code",
   "execution_count": 36,
   "id": "bd94aca3-3db5-40b7-9550-1e20237e37ee",
   "metadata": {},
   "outputs": [
    {
     "name": "stdout",
     "output_type": "stream",
     "text": [
      "InsectClassifier(\n",
      "  (conv_layers): Sequential(\n",
      "    (0): Conv2d(3, 16, kernel_size=(3, 3), stride=(1, 1), padding=(1, 1))\n",
      "    (1): ReLU()\n",
      "    (2): MaxPool2d(kernel_size=2, stride=2, padding=0, dilation=1, ceil_mode=False)\n",
      "    (3): Conv2d(16, 32, kernel_size=(3, 3), stride=(1, 1), padding=(1, 1))\n",
      "    (4): ReLU()\n",
      "    (5): MaxPool2d(kernel_size=2, stride=2, padding=0, dilation=1, ceil_mode=False)\n",
      "  )\n",
      "  (fc_layers): Sequential(\n",
      "    (0): Linear(in_features=100352, out_features=128, bias=True)\n",
      "    (1): ReLU()\n",
      "    (2): Linear(in_features=128, out_features=3, bias=True)\n",
      "  )\n",
      ")\n"
     ]
    }
   ],
   "source": [
    "# Arquitetura do modelo\n",
    "\n",
    "import torch\n",
    "import torch.nn as nn\n",
    "\n",
    "class InsectClassifier(nn.Module):\n",
    "    def __init__(self, num_classes):\n",
    "        super(InsectClassifier, self).__init__()\n",
    "        \n",
    "        # Camadas convolucionais\n",
    "        self.conv_layers = nn.Sequential(\n",
    "            nn.Conv2d(in_channels=3, out_channels=16, kernel_size=3, padding=1),\n",
    "            nn.ReLU(),\n",
    "            nn.MaxPool2d(kernel_size=2, stride=2),\n",
    "            nn.Conv2d(in_channels=16, out_channels=32, kernel_size=3, padding=1),\n",
    "            nn.ReLU(),\n",
    "            nn.MaxPool2d(kernel_size=2, stride=2),\n",
    "        )\n",
    "        \n",
    "        # Camadas totalmente conectadas\n",
    "        self.fc_layers = nn.Sequential(\n",
    "            nn.Linear(32 * 56 * 56, 128),  # Correção no tamanho do tensor de entrada\n",
    "            nn.ReLU(),\n",
    "            nn.Linear(128, num_classes)\n",
    "        )\n",
    "    def forward(self, x):\n",
    "        x = self.conv_layers(x)\n",
    "        x = x.view(x.size(0), -1)  # Achatando o tensor para a camada totalmente conectada\n",
    "        x = self.fc_layers(x)\n",
    "        return x\n",
    "\n",
    "# Criando uma instância do modelo\n",
    "num_classes = num_classes\n",
    "model = InsectClassifier(num_classes)\n",
    "\n",
    "# Imprimindo a arquitetura do modelo\n",
    "print(model)"
   ]
  },
  {
   "cell_type": "code",
   "execution_count": 38,
   "id": "7f9d7101-016c-4631-b04a-6e8df20743fc",
   "metadata": {},
   "outputs": [
    {
     "name": "stdout",
     "output_type": "stream",
     "text": [
      "<torch.utils.data.dataloader.DataLoader object at 0x7ff123b66ef0>\n"
     ]
    }
   ],
   "source": [
    "# Preparar os dados\n",
    "import os\n",
    "import torchvision.transforms as transforms\n",
    "from torchvision.datasets import ImageFolder\n",
    "from torch.utils.data import DataLoader\n",
    "\n",
    "# Caminho para a pasta que contém as subpastas das classes\n",
    "data_dir = \"imagens\"\n",
    "\n",
    "# Define as transformações para pré-processamento das imagens\n",
    "data_transforms = transforms.Compose([\n",
    "    transforms.Resize((224, 224)),\n",
    "    transforms.ToTensor(),\n",
    "    transforms.Normalize(mean=[0.485, 0.456, 0.406], std=[0.229, 0.224, 0.225])\n",
    "])\n",
    "\n",
    "# Carrega os dados usando ImageFolder\n",
    "dataset = ImageFolder(data_dir, transform=data_transforms)\n",
    "\n",
    "# Divide os dados em conjuntos de treinamento, validação e teste\n",
    "train_size = int(0.8 * len(dataset))\n",
    "val_size = len(dataset) - train_size\n",
    "train_dataset, val_dataset = torch.utils.data.random_split(dataset, [train_size, val_size])\n",
    "\n",
    "# Cria DataLoaders para os conjuntos de treinamento e validação\n",
    "batch_size = 32\n",
    "train_loader = DataLoader(train_dataset, batch_size=batch_size, shuffle=True)\n",
    "val_loader = DataLoader(val_dataset, batch_size=batch_size)\n",
    "print(train_loader)"
   ]
  },
  {
   "cell_type": "code",
   "execution_count": 39,
   "id": "e93f19e2-96c5-4931-be01-ce90aeb8b0c9",
   "metadata": {},
   "outputs": [],
   "source": [
    "import torch.optim as optim\n",
    "\n",
    "criterion = nn.CrossEntropyLoss()\n",
    "optimizer = optim.Adam(model.parameters(), lr=0.001)\n"
   ]
  },
  {
   "cell_type": "code",
   "execution_count": 40,
   "id": "41857151-0433-44d8-a1a7-b92f83b6e26f",
   "metadata": {},
   "outputs": [
    {
     "name": "stdout",
     "output_type": "stream",
     "text": [
      "Epoch [1/10] - Loss: 4.8522\n",
      "Validation Loss: 4.4425 - Accuracy: 0.5484\n",
      "Epoch [2/10] - Loss: 2.3594\n",
      "Validation Loss: 2.8997 - Accuracy: 0.4516\n",
      "Epoch [3/10] - Loss: 1.6301\n",
      "Validation Loss: 0.5163 - Accuracy: 0.7097\n",
      "Epoch [4/10] - Loss: 0.3346\n",
      "Validation Loss: 0.4548 - Accuracy: 0.8387\n",
      "Epoch [5/10] - Loss: 0.3720\n",
      "Validation Loss: 0.3070 - Accuracy: 0.8387\n",
      "Epoch [6/10] - Loss: 0.2519\n",
      "Validation Loss: 0.3582 - Accuracy: 0.8710\n",
      "Epoch [7/10] - Loss: 0.1665\n",
      "Validation Loss: 0.5153 - Accuracy: 0.7097\n",
      "Epoch [8/10] - Loss: 0.1360\n",
      "Validation Loss: 0.4755 - Accuracy: 0.7742\n",
      "Epoch [9/10] - Loss: 0.0929\n",
      "Validation Loss: 0.4718 - Accuracy: 0.7419\n",
      "Epoch [10/10] - Loss: 0.0673\n",
      "Validation Loss: 0.4390 - Accuracy: 0.8065\n"
     ]
    }
   ],
   "source": [
    "import torch.optim as optim\n",
    "\n",
    "# Defina a função de perda (loss function) e o otimizador\n",
    "criterion = nn.CrossEntropyLoss()\n",
    "optimizer = optim.Adam(model.parameters(), lr=0.001)\n",
    "\n",
    "device = torch.device(\"cuda\" if torch.cuda.is_available() else \"cpu\")\n",
    "model.to(device)\n",
    "\n",
    "num_epochs = 10\n",
    "\n",
    "for epoch in range(num_epochs):\n",
    "    model.train()  # Define o modelo para modo de treinamento\n",
    "    running_loss = 0.0\n",
    "\n",
    "    for inputs, labels in train_loader:\n",
    "        inputs, labels = inputs.to(device), labels.to(device)\n",
    "        \n",
    "        optimizer.zero_grad()\n",
    "        outputs = model(inputs)\n",
    "        loss = criterion(outputs, labels)\n",
    "        loss.backward()\n",
    "        optimizer.step()\n",
    "\n",
    "        running_loss += loss.item()\n",
    "\n",
    "    # Calcula a perda média durante a época\n",
    "    epoch_loss = running_loss / len(train_loader)\n",
    "\n",
    "    print(f\"Epoch [{epoch+1}/{num_epochs}] - Loss: {epoch_loss:.4f}\")\n",
    "\n",
    "    # Avalia o modelo no conjunto de validação\n",
    "    model.eval()\n",
    "    val_loss = 0.0\n",
    "    correct = 0\n",
    "    total = 0\n",
    "\n",
    "    with torch.no_grad():\n",
    "        for inputs, labels in val_loader:\n",
    "            inputs, labels = inputs.to(device), labels.to(device)\n",
    "\n",
    "            outputs = model(inputs)\n",
    "            loss = criterion(outputs, labels)\n",
    "            val_loss += loss.item()\n",
    "\n",
    "            _, predicted = outputs.max(1)\n",
    "            total += labels.size(0)\n",
    "            correct += predicted.eq(labels).sum().item()\n",
    "\n",
    "    # Calcula a perda e a precisão médias no conjunto de validação\n",
    "    val_loss /= len(val_loader)\n",
    "    val_accuracy = correct / total\n",
    "\n",
    "    print(f\"Validation Loss: {val_loss:.4f} - Accuracy: {val_accuracy:.4f}\")\n"
   ]
  },
  {
   "cell_type": "code",
   "execution_count": 42,
   "id": "b00c1baf-a9a3-442d-8b89-2eec2a508043",
   "metadata": {},
   "outputs": [
    {
     "name": "stdout",
     "output_type": "stream",
     "text": [
      "Modelo treinado salvo em modelo_treinado.pth\n"
     ]
    }
   ],
   "source": [
    "# Caminho onde você deseja salvar o modelo treinado\n",
    "save_path = \"modelo_treinado.pth\"\n",
    "\n",
    "# Salvar o estado do modelo\n",
    "torch.save(model.state_dict(), save_path)\n",
    "\n",
    "print(f\"Modelo treinado salvo em {save_path}\")"
   ]
  },
  {
   "cell_type": "code",
   "execution_count": 44,
   "id": "54a07f83-e24a-4419-9f34-84270e4cc538",
   "metadata": {},
   "outputs": [
    {
     "name": "stdout",
     "output_type": "stream",
     "text": [
      "Test Accuracy: 0.6399\n"
     ]
    }
   ],
   "source": [
    "model = InsectClassifier(num_classes)\n",
    "model.load_state_dict(torch.load(save_path))\n",
    "model.to(device)\n",
    "\n",
    "# Preparar os dados de teste\n",
    "test_dataset = ImageFolder(\"imagens_teste\", transform=data_transforms)\n",
    "\n",
    "# Criar DataLoader para o conjunto de teste\n",
    "test_loader = DataLoader(test_dataset, batch_size=batch_size)\n",
    "\n",
    "# Carregar o modelo treinado\n",
    "model.load_state_dict(torch.load(\"modelo_treinado.pth\"))\n",
    "model.to(device)\n",
    "\n",
    "# Avaliar o modelo no conjunto de teste\n",
    "model.eval()\n",
    "correct = 0\n",
    "total = 0\n",
    "\n",
    "with torch.no_grad():\n",
    "    for inputs, labels in test_loader:\n",
    "        inputs, labels = inputs.to(device), labels.to(device)\n",
    "\n",
    "        outputs = model(inputs)\n",
    "        _, predicted = outputs.max(1)\n",
    "        total += labels.size(0)\n",
    "        correct += predicted.eq(labels).sum().item()\n",
    "\n",
    "test_accuracy = correct / total\n",
    "print(f\"Test Accuracy: {test_accuracy:.4f}\")\n"
   ]
  },
  {
   "cell_type": "code",
   "execution_count": 50,
   "id": "38d2f706-4461-4b1c-923b-6534f2be6e15",
   "metadata": {},
   "outputs": [
    {
     "name": "stdout",
     "output_type": "stream",
     "text": [
      "A imagem pertence à classe: Butterfly\n"
     ]
    }
   ],
   "source": [
    "from PIL import Image\n",
    "import torch\n",
    "import torchvision.transforms as transforms\n",
    "\n",
    "# Carregar o modelo treinado\n",
    "model = InsectClassifier(num_classes)\n",
    "model.load_state_dict(torch.load(\"modelo_treinado.pth\"))\n",
    "model.to(device)\n",
    "model.eval()\n",
    "\n",
    "# Carregar e pré-processar a imagem de entrada\n",
    "image_path = \"google141.jpg\"\n",
    "image = Image.open(image_path).convert(\"RGB\")\n",
    "data_transform = transforms.Compose([\n",
    "    transforms.Resize((224, 224)),\n",
    "    transforms.ToTensor(),\n",
    "    transforms.Normalize(mean=[0.485, 0.456, 0.406], std=[0.229, 0.224, 0.225])\n",
    "])\n",
    "input_image = data_transform(image).unsqueeze(0).to(device)\n",
    "\n",
    "# Fazer a previsão\n",
    "with torch.no_grad():\n",
    "    outputs = model(input_image)\n",
    "    predicted_class = torch.argmax(outputs, dim=1).item()\n",
    "\n",
    "# Mapear o índice da classe para o nome da classe\n",
    "class_names = dataset.classes\n",
    "predicted_class_name = class_names[predicted_class]\n",
    "\n",
    "print(f\"A imagem pertence à classe: {predicted_class_name}\")\n"
   ]
  }
 ],
 "metadata": {
  "kernelspec": {
   "display_name": "Python 3 (ipykernel)",
   "language": "python",
   "name": "python3"
  },
  "language_info": {
   "codemirror_mode": {
    "name": "ipython",
    "version": 3
   },
   "file_extension": ".py",
   "mimetype": "text/x-python",
   "name": "python",
   "nbconvert_exporter": "python",
   "pygments_lexer": "ipython3",
   "version": "3.10.12"
  }
 },
 "nbformat": 4,
 "nbformat_minor": 5
}
